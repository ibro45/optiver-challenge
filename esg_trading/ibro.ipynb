{
 "cells": [
  {
   "cell_type": "code",
   "execution_count": 130,
   "id": "ec1ed582-d892-4aea-8e3b-13e8ed927299",
   "metadata": {},
   "outputs": [
    {
     "name": "stdout",
     "output_type": "stream",
     "text": [
      "Setup was successful.\n"
     ]
    }
   ],
   "source": [
    "from optibook.synchronous_client import Exchange\n",
    "\n",
    "import logging\n",
    "logger = logging.getLogger('client')\n",
    "logger.setLevel('ERROR')\n",
    "\n",
    "print(\"Setup was successful.\")"
   ]
  },
  {
   "cell_type": "code",
   "execution_count": 131,
   "id": "f8c62c0e-d3bd-4bc8-b317-b5791530526b",
   "metadata": {},
   "outputs": [],
   "source": [
    "# Instrument aliases for readability\n",
    "FOSSIL_BASKET = \"C1_FOSSIL_FUEL_ETF\"\n",
    "FOSSIL_GAS = \"C1_GAS_INC\"\n",
    "FOSSIL_OIL = \"C1_OIL_CORP\"\n",
    "\n",
    "GREEN_BASKET = \"C2_GREEN_ENERGY_ETF\"\n",
    "GREEN_SOLAR = \"C2_SOLAR_CO\"\n",
    "GREEN_WIND = \"C2_WIND_LTD\""
   ]
  },
  {
   "cell_type": "code",
   "execution_count": 132,
   "id": "c9cfcb80-d17d-4a3f-af88-b5716d3ef535",
   "metadata": {},
   "outputs": [
    {
     "name": "stderr",
     "output_type": "stream",
     "text": [
      "2021-09-25 12:24:17,624 [asyncio   ] [MainThread  ] Using selector: EpollSelector\n"
     ]
    }
   ],
   "source": [
    "e = Exchange()\n",
    "e.connect()"
   ]
  },
  {
   "cell_type": "code",
   "execution_count": 24,
   "id": "924d382c-304f-45c5-80f1-325eb1241a29",
   "metadata": {},
   "outputs": [],
   "source": [
    "instrument_id = FOSSIL_OIL"
   ]
  },
  {
   "cell_type": "markdown",
   "id": "4fa56902-689c-4186-8e8a-7204ecf14ae6",
   "metadata": {},
   "source": [
    "## Problem 1\n",
    "Buy 10 lots of the instrument of your choice at any current price, and use the Optibook client to double check your position. You should have +10 lots."
   ]
  },
  {
   "cell_type": "code",
   "execution_count": 95,
   "id": "16924908-19a5-4d5e-b9b1-754f84dbb446",
   "metadata": {},
   "outputs": [
    {
     "name": "stdout",
     "output_type": "stream",
     "text": [
      "Order Id: 1471874\n"
     ]
    }
   ],
   "source": [
    "# Insert bid limit orderr\n",
    "result = e.insert_order(instrument_id, price=235.90, volume=10, side='bid', order_type='limit')\n",
    "print(f\"Order Id: {result}\")"
   ]
  },
  {
   "cell_type": "code",
   "execution_count": 125,
   "id": "5e7d5b27-0b9c-4e79-bd2b-600e6fb88a90",
   "metadata": {},
   "outputs": [],
   "source": [
    "# Returns all currently outstanding orders\n",
    "orders = e.get_outstanding_orders(instrument_id)\n",
    "for order_id in orders:\n",
    "    print(vars(orders[order_id]))"
   ]
  },
  {
   "cell_type": "code",
   "execution_count": 98,
   "id": "39de1c3a-9c39-4368-a930-313baa031dae",
   "metadata": {},
   "outputs": [
    {
     "data": {
      "text/plain": [
       "{'C1_GAS_INC': {'volume': 0, 'cash': 0.0},\n",
       " 'C1_OIL_CORP': {'volume': 0, 'cash': -52.0},\n",
       " 'C1_FOSSIL_FUEL_ETF': {'volume': 0, 'cash': -59488.7},\n",
       " 'C2_GREEN_ENERGY_ETF': {'volume': 0, 'cash': -7.1000000000000085},\n",
       " 'C2_SOLAR_CO': {'volume': 0, 'cash': 0.0},\n",
       " 'C2_WIND_LTD': {'volume': 0, 'cash': 0.0}}"
      ]
     },
     "execution_count": 98,
     "metadata": {},
     "output_type": "execute_result"
    }
   ],
   "source": [
    "e.get_positions_and_cash()"
   ]
  },
  {
   "cell_type": "code",
   "execution_count": 82,
   "id": "3946022e-7630-4b56-9520-e6ee14c6d9a2",
   "metadata": {},
   "outputs": [
    {
     "name": "stdout",
     "output_type": "stream",
     "text": [
      "True\n"
     ]
    }
   ],
   "source": [
    "# When you want to delete a (wrong) order\n",
    "order_id = 1424322 # result\n",
    "result = e.delete_order(instrument_id, order_id=result)\n",
    "print(result)"
   ]
  },
  {
   "cell_type": "markdown",
   "id": "1c513730-f06d-41ed-b570-e7e67333d204",
   "metadata": {},
   "source": [
    "## Problem 2\n",
    "Wait a minute or two, and then sell 10 lots of the same instrument at any current price, and use the Optibook client to double check your position. You should now have 0 lots. Go ahead and play around with inserting orders at different prices into the order book. Insert an order and see what happens in the visualizer! Try to make a few trades.\n",
    "\n",
    "Only move on to problem 3 once you are comfortable with the idea of buying and selling. Also make sure your position is 0 when you move on to problem 3, it will make the problem a lot easier."
   ]
  },
  {
   "cell_type": "code",
   "execution_count": 66,
   "id": "a78ce665-4f51-4eb4-a9f5-157feb94e7ef",
   "metadata": {},
   "outputs": [
    {
     "name": "stdout",
     "output_type": "stream",
     "text": [
      "Order Id: 1428700\n"
     ]
    }
   ],
   "source": [
    "# Insert ask limit order\n",
    "result = e.insert_order(instrument_id, price=229.90, volume=10, side='ask', order_type='limit')\n",
    "print(f\"Order Id: {result}\")"
   ]
  },
  {
   "cell_type": "code",
   "execution_count": 68,
   "id": "ad7c0e85-bf71-4d1e-80d8-fcf1d70a2320",
   "metadata": {},
   "outputs": [],
   "source": [
    "# Returns all currently outstanding orders\n",
    "orders = e.get_outstanding_orders(instrument_id)"
   ]
  },
  {
   "cell_type": "code",
   "execution_count": 143,
   "id": "95cb86d8-f371-40e6-8a70-461679cfc3ab",
   "metadata": {},
   "outputs": [
    {
     "data": {
      "text/plain": [
       "{'C1_GAS_INC': {'volume': 0, 'cash': 0.0},\n",
       " 'C1_OIL_CORP': {'volume': 20, 'cash': -4709.0},\n",
       " 'C1_FOSSIL_FUEL_ETF': {'volume': 0, 'cash': -59488.7},\n",
       " 'C2_GREEN_ENERGY_ETF': {'volume': 0, 'cash': -7.1000000000000085},\n",
       " 'C2_SOLAR_CO': {'volume': 0, 'cash': 0.0},\n",
       " 'C2_WIND_LTD': {'volume': 0, 'cash': 0.0}}"
      ]
     },
     "execution_count": 143,
     "metadata": {},
     "output_type": "execute_result"
    }
   ],
   "source": [
    "e.get_positions_and_cash()"
   ]
  },
  {
   "cell_type": "markdown",
   "id": "6258ddb3-e04b-47eb-b002-1efa729cad54",
   "metadata": {},
   "source": [
    "## Problem 3\n",
    "Get the trade info of the trades you made, and calculate the \"PnL\" (Profit & Loss) of your trades. If you are unsure how to do this, reason through this on paper first, what price did you buy your instrument at, and how many lots did you buy? At what price did you sell it again, and how many lots did you sell? Did you make any money? Now turn this into code.\n",
    "\n",
    "Use the e.get_pnl() function to verify that your calculation is correct."
   ]
  },
  {
   "cell_type": "code",
   "execution_count": 128,
   "id": "510a769e-7d8a-4d78-bdac-f8aad2ebacd6",
   "metadata": {},
   "outputs": [
    {
     "data": {
      "text/plain": [
       "-59444.799999999996"
      ]
     },
     "execution_count": 128,
     "metadata": {},
     "output_type": "execute_result"
    },
    {
     "name": "stderr",
     "output_type": "stream",
     "text": [
      "2021-09-25 12:19:56,094 [client    ] [Thread-4    ] Forcing a disconnect due to an error: Closing connection because someone else logged in with the same credentials. Only one session may be active at the same time.\n"
     ]
    }
   ],
   "source": [
    "e.get_pnl()"
   ]
  },
  {
   "cell_type": "markdown",
   "id": "a3f5e6c7-c414-4f22-a5a0-eb5d3d1358b1",
   "metadata": {},
   "source": [
    "## Problem 4\n",
    "Insert 10 orders to sell the instrument of your choice at a random number higher than 100,000. This order should not trade, as the price is way too high. Now, check your outstanding orders, do you see it? Next, amend your order to only trade 5 lots, and check your outstanding orders again, do you see the change?\n",
    "\n",
    "Finally, cancel all outstanding orders, and check again to make sure they have been cancelled correctly."
   ]
  },
  {
   "cell_type": "code",
   "execution_count": 133,
   "id": "5adecc92-e3ae-4fc0-a388-4f20a6119f53",
   "metadata": {},
   "outputs": [
    {
     "name": "stdout",
     "output_type": "stream",
     "text": [
      "Order Id: 1521163\n"
     ]
    }
   ],
   "source": [
    "# Insert ask limit order\n",
    "result = e.insert_order(instrument_id, price=100000, volume=10, side='bid', order_type='limit')\n",
    "print(f\"Order Id: {result}\")"
   ]
  },
  {
   "cell_type": "code",
   "execution_count": 150,
   "id": "f6f5bb5e-11c0-4755-9602-ab14897f2a85",
   "metadata": {},
   "outputs": [],
   "source": [
    "# Returns all currently outstanding orders\n",
    "orders = e.get_outstanding_orders(instrument_id)\n",
    "for order_id in orders:\n",
    "    print(vars(orders[order_id]))"
   ]
  },
  {
   "cell_type": "code",
   "execution_count": 147,
   "id": "3bf501f3-8f2f-40b6-a1f0-b66b8f144a84",
   "metadata": {},
   "outputs": [
    {
     "name": "stdout",
     "output_type": "stream",
     "text": [
      "Changed volume for order id 1521163 to 5 lots: True\n"
     ]
    }
   ],
   "source": [
    "# Change volume for existing order\n",
    "order_id = 1521163\n",
    "new_volume = 5\n",
    "result = e.amend_order(instrument_id, order_id=order_id, volume=new_volume)\n",
    "print(f\"Changed volume for order id {order_id} to {new_volume} lots: {result}\")"
   ]
  },
  {
   "cell_type": "code",
   "execution_count": 151,
   "id": "768bcd47-aef8-495c-a175-8f2fb0561d6f",
   "metadata": {},
   "outputs": [],
   "source": [
    "for order_id in e.get_outstanding_orders(instrument_id):\n",
    "    e.delete_order(instrument_id, order_id=order_id)"
   ]
  },
  {
   "cell_type": "markdown",
   "id": "3c8240be-b03c-48e0-b00b-493e97d52ae5",
   "metadata": {},
   "source": [
    "## Problem 5\n",
    "Look at all public trades that have happened since the exchange has started, for all users, and print them!"
   ]
  },
  {
   "cell_type": "code",
   "execution_count": 163,
   "id": "c874b40a-4257-4152-889d-ae810ff2529a",
   "metadata": {
    "collapsed": true,
    "jupyter": {
     "outputs_hidden": true
    },
    "tags": []
   },
   "outputs": [
    {
     "name": "stdout",
     "output_type": "stream",
     "text": [
      "{'timestamp': datetime.datetime(2021, 9, 25, 12, 24, 40), 'instrument_id': 'C1_OIL_CORP', 'price': 238.20000000000002, 'volume': 10, 'aggressor_side': 'bid', 'buyer': '', 'seller': '', 'trade_nr': 167082}\n",
      "{'timestamp': datetime.datetime(2021, 9, 25, 12, 24, 59), 'instrument_id': 'C1_OIL_CORP', 'price': 238.20000000000002, 'volume': 1, 'aggressor_side': 'bid', 'buyer': '', 'seller': '', 'trade_nr': 167098}\n",
      "{'timestamp': datetime.datetime(2021, 9, 25, 12, 25, 5), 'instrument_id': 'C1_OIL_CORP', 'price': 238.20000000000002, 'volume': 1, 'aggressor_side': 'bid', 'buyer': '', 'seller': '', 'trade_nr': 167107}\n",
      "{'timestamp': datetime.datetime(2021, 9, 25, 12, 25, 9), 'instrument_id': 'C1_OIL_CORP', 'price': 238.4, 'volume': 1, 'aggressor_side': 'bid', 'buyer': '', 'seller': '', 'trade_nr': 167115}\n",
      "{'timestamp': datetime.datetime(2021, 9, 25, 12, 25, 27), 'instrument_id': 'C1_OIL_CORP', 'price': 238.70000000000002, 'volume': 1, 'aggressor_side': 'ask', 'buyer': '', 'seller': '', 'trade_nr': 167155}\n",
      "{'timestamp': datetime.datetime(2021, 9, 25, 12, 25, 38), 'instrument_id': 'C1_OIL_CORP', 'price': 238.9, 'volume': 1, 'aggressor_side': 'ask', 'buyer': '', 'seller': '', 'trade_nr': 167187}\n",
      "{'timestamp': datetime.datetime(2021, 9, 25, 12, 25, 43), 'instrument_id': 'C1_OIL_CORP', 'price': 239.60000000000002, 'volume': 15, 'aggressor_side': 'bid', 'buyer': '', 'seller': '', 'trade_nr': 167190}\n",
      "{'timestamp': datetime.datetime(2021, 9, 25, 12, 25, 43), 'instrument_id': 'C1_OIL_CORP', 'price': 239.60000000000002, 'volume': 124, 'aggressor_side': 'ask', 'buyer': '', 'seller': '', 'trade_nr': 167192}\n",
      "{'timestamp': datetime.datetime(2021, 9, 25, 12, 26, 27), 'instrument_id': 'C1_OIL_CORP', 'price': 239.70000000000002, 'volume': 15, 'aggressor_side': 'ask', 'buyer': '', 'seller': '', 'trade_nr': 167224}\n",
      "{'timestamp': datetime.datetime(2021, 9, 25, 12, 26, 33), 'instrument_id': 'C1_OIL_CORP', 'price': 239.60000000000002, 'volume': 15, 'aggressor_side': 'bid', 'buyer': '', 'seller': '', 'trade_nr': 167230}\n",
      "{'timestamp': datetime.datetime(2021, 9, 25, 12, 26, 41), 'instrument_id': 'C1_OIL_CORP', 'price': 239.5, 'volume': 1, 'aggressor_side': 'bid', 'buyer': '', 'seller': '', 'trade_nr': 167254}\n",
      "{'timestamp': datetime.datetime(2021, 9, 25, 12, 26, 49), 'instrument_id': 'C1_OIL_CORP', 'price': 239.70000000000002, 'volume': 15, 'aggressor_side': 'bid', 'buyer': '', 'seller': '', 'trade_nr': 167259}\n",
      "{'timestamp': datetime.datetime(2021, 9, 25, 12, 26, 51), 'instrument_id': 'C1_OIL_CORP', 'price': 240.20000000000002, 'volume': 15, 'aggressor_side': 'ask', 'buyer': '', 'seller': '', 'trade_nr': 167261}\n",
      "{'timestamp': datetime.datetime(2021, 9, 25, 12, 26, 52), 'instrument_id': 'C1_OIL_CORP', 'price': 240.20000000000002, 'volume': 1, 'aggressor_side': 'ask', 'buyer': '', 'seller': '', 'trade_nr': 167264}\n",
      "{'timestamp': datetime.datetime(2021, 9, 25, 12, 26, 55), 'instrument_id': 'C1_OIL_CORP', 'price': 240.10000000000002, 'volume': 15, 'aggressor_side': 'ask', 'buyer': '', 'seller': '', 'trade_nr': 167267}\n",
      "{'timestamp': datetime.datetime(2021, 9, 25, 12, 26, 59), 'instrument_id': 'C1_OIL_CORP', 'price': 240.3, 'volume': 15, 'aggressor_side': 'ask', 'buyer': '', 'seller': '', 'trade_nr': 167271}\n",
      "{'timestamp': datetime.datetime(2021, 9, 25, 12, 27, 6), 'instrument_id': 'C1_OIL_CORP', 'price': 240.20000000000002, 'volume': 1, 'aggressor_side': 'bid', 'buyer': '', 'seller': '', 'trade_nr': 167275}\n",
      "{'timestamp': datetime.datetime(2021, 9, 25, 12, 27, 17), 'instrument_id': 'C1_OIL_CORP', 'price': 240.3, 'volume': 15, 'aggressor_side': 'bid', 'buyer': '', 'seller': '', 'trade_nr': 167287}\n",
      "{'timestamp': datetime.datetime(2021, 9, 25, 12, 27, 27), 'instrument_id': 'C1_OIL_CORP', 'price': 239.70000000000002, 'volume': 1, 'aggressor_side': 'ask', 'buyer': '', 'seller': '', 'trade_nr': 167304}\n",
      "{'timestamp': datetime.datetime(2021, 9, 25, 12, 27, 41), 'instrument_id': 'C1_OIL_CORP', 'price': 240.20000000000002, 'volume': 1, 'aggressor_side': 'bid', 'buyer': '', 'seller': '', 'trade_nr': 167313}\n",
      "{'timestamp': datetime.datetime(2021, 9, 25, 12, 27, 45), 'instrument_id': 'C1_OIL_CORP', 'price': 240.10000000000002, 'volume': 1, 'aggressor_side': 'bid', 'buyer': '', 'seller': '', 'trade_nr': 167319}\n",
      "{'timestamp': datetime.datetime(2021, 9, 25, 12, 27, 59), 'instrument_id': 'C1_OIL_CORP', 'price': 240.20000000000002, 'volume': 1, 'aggressor_side': 'ask', 'buyer': '', 'seller': '', 'trade_nr': 167323}\n",
      "{'timestamp': datetime.datetime(2021, 9, 25, 12, 28, 6), 'instrument_id': 'C1_OIL_CORP', 'price': 240.60000000000002, 'volume': 1, 'aggressor_side': 'bid', 'buyer': '', 'seller': '', 'trade_nr': 167328}\n",
      "{'timestamp': datetime.datetime(2021, 9, 25, 12, 28, 10), 'instrument_id': 'C1_OIL_CORP', 'price': 240.8, 'volume': 1, 'aggressor_side': 'bid', 'buyer': '', 'seller': '', 'trade_nr': 167330}\n",
      "{'timestamp': datetime.datetime(2021, 9, 25, 12, 28, 17), 'instrument_id': 'C1_OIL_CORP', 'price': 240.70000000000002, 'volume': 250, 'aggressor_side': 'ask', 'buyer': '', 'seller': '', 'trade_nr': 167333}\n",
      "{'timestamp': datetime.datetime(2021, 9, 25, 12, 28, 33), 'instrument_id': 'C1_OIL_CORP', 'price': 240.8, 'volume': 25, 'aggressor_side': 'bid', 'buyer': '', 'seller': '', 'trade_nr': 167352}\n",
      "{'timestamp': datetime.datetime(2021, 9, 25, 12, 28, 33), 'instrument_id': 'C1_OIL_CORP', 'price': 240.8, 'volume': 37, 'aggressor_side': 'bid', 'buyer': '', 'seller': '', 'trade_nr': 167355}\n",
      "{'timestamp': datetime.datetime(2021, 9, 25, 12, 28, 33), 'instrument_id': 'C1_OIL_CORP', 'price': 240.8, 'volume': 56, 'aggressor_side': 'bid', 'buyer': '', 'seller': '', 'trade_nr': 167358}\n",
      "{'timestamp': datetime.datetime(2021, 9, 25, 12, 28, 33), 'instrument_id': 'C1_OIL_CORP', 'price': 240.8, 'volume': 84, 'aggressor_side': 'bid', 'buyer': '', 'seller': '', 'trade_nr': 167360}\n",
      "{'timestamp': datetime.datetime(2021, 9, 25, 12, 28, 34), 'instrument_id': 'C1_OIL_CORP', 'price': 240.9, 'volume': 1, 'aggressor_side': 'ask', 'buyer': '', 'seller': '', 'trade_nr': 167362}\n",
      "{'timestamp': datetime.datetime(2021, 9, 25, 12, 28, 37), 'instrument_id': 'C1_OIL_CORP', 'price': 241.20000000000002, 'volume': 15, 'aggressor_side': 'bid', 'buyer': '', 'seller': '', 'trade_nr': 167381}\n",
      "{'timestamp': datetime.datetime(2021, 9, 25, 12, 28, 40), 'instrument_id': 'C1_OIL_CORP', 'price': 241.3, 'volume': 1, 'aggressor_side': 'bid', 'buyer': '', 'seller': '', 'trade_nr': 167387}\n",
      "{'timestamp': datetime.datetime(2021, 9, 25, 12, 28, 50), 'instrument_id': 'C1_OIL_CORP', 'price': 240.9, 'volume': 1, 'aggressor_side': 'ask', 'buyer': '', 'seller': '', 'trade_nr': 167410}\n",
      "{'timestamp': datetime.datetime(2021, 9, 25, 12, 28, 53), 'instrument_id': 'C1_OIL_CORP', 'price': 241.20000000000002, 'volume': 15, 'aggressor_side': 'bid', 'buyer': '', 'seller': '', 'trade_nr': 167418}\n",
      "{'timestamp': datetime.datetime(2021, 9, 25, 12, 28, 54), 'instrument_id': 'C1_OIL_CORP', 'price': 241.5, 'volume': 1, 'aggressor_side': 'bid', 'buyer': '', 'seller': '', 'trade_nr': 167421}\n",
      "{'timestamp': datetime.datetime(2021, 9, 25, 12, 28, 55), 'instrument_id': 'C1_OIL_CORP', 'price': 241.5, 'volume': 15, 'aggressor_side': 'bid', 'buyer': '', 'seller': '', 'trade_nr': 167425}\n",
      "{'timestamp': datetime.datetime(2021, 9, 25, 12, 28, 58), 'instrument_id': 'C1_OIL_CORP', 'price': 241.5, 'volume': 15, 'aggressor_side': 'ask', 'buyer': '', 'seller': '', 'trade_nr': 167434}\n",
      "{'timestamp': datetime.datetime(2021, 9, 25, 12, 29), 'instrument_id': 'C1_OIL_CORP', 'price': 241.60000000000002, 'volume': 3, 'aggressor_side': 'bid', 'buyer': '', 'seller': '', 'trade_nr': 167437}\n",
      "{'timestamp': datetime.datetime(2021, 9, 25, 12, 29, 27), 'instrument_id': 'C1_OIL_CORP', 'price': 240.5, 'volume': 1, 'aggressor_side': 'bid', 'buyer': '', 'seller': '', 'trade_nr': 167505}\n",
      "{'timestamp': datetime.datetime(2021, 9, 25, 12, 29, 41), 'instrument_id': 'C1_OIL_CORP', 'price': 241.10000000000002, 'volume': 1, 'aggressor_side': 'ask', 'buyer': '', 'seller': '', 'trade_nr': 167530}\n",
      "{'timestamp': datetime.datetime(2021, 9, 25, 12, 29, 52), 'instrument_id': 'C1_OIL_CORP', 'price': 240.5, 'volume': 1, 'aggressor_side': 'bid', 'buyer': '', 'seller': '', 'trade_nr': 167541}\n",
      "{'timestamp': datetime.datetime(2021, 9, 25, 12, 30, 3), 'instrument_id': 'C1_OIL_CORP', 'price': 240.8, 'volume': 1, 'aggressor_side': 'bid', 'buyer': '', 'seller': '', 'trade_nr': 167549}\n",
      "{'timestamp': datetime.datetime(2021, 9, 25, 12, 30, 10), 'instrument_id': 'C1_OIL_CORP', 'price': 240.5, 'volume': 1, 'aggressor_side': 'ask', 'buyer': '', 'seller': '', 'trade_nr': 167553}\n",
      "{'timestamp': datetime.datetime(2021, 9, 25, 12, 30, 23), 'instrument_id': 'C1_OIL_CORP', 'price': 240.9, 'volume': 15, 'aggressor_side': 'bid', 'buyer': '', 'seller': '', 'trade_nr': 167574}\n",
      "{'timestamp': datetime.datetime(2021, 9, 25, 12, 30, 25), 'instrument_id': 'C1_OIL_CORP', 'price': 241.10000000000002, 'volume': 15, 'aggressor_side': 'bid', 'buyer': '', 'seller': '', 'trade_nr': 167579}\n",
      "{'timestamp': datetime.datetime(2021, 9, 25, 12, 30, 35), 'instrument_id': 'C1_OIL_CORP', 'price': 240.5, 'volume': 1, 'aggressor_side': 'bid', 'buyer': '', 'seller': '', 'trade_nr': 167625}\n",
      "{'timestamp': datetime.datetime(2021, 9, 25, 12, 30, 46), 'instrument_id': 'C1_OIL_CORP', 'price': 240.9, 'volume': 1, 'aggressor_side': 'ask', 'buyer': '', 'seller': '', 'trade_nr': 167639}\n",
      "{'timestamp': datetime.datetime(2021, 9, 25, 12, 30, 47), 'instrument_id': 'C1_OIL_CORP', 'price': 241.0, 'volume': 15, 'aggressor_side': 'bid', 'buyer': '', 'seller': '', 'trade_nr': 167644}\n",
      "{'timestamp': datetime.datetime(2021, 9, 25, 12, 30, 47), 'instrument_id': 'C1_OIL_CORP', 'price': 241.3, 'volume': 71, 'aggressor_side': 'ask', 'buyer': '', 'seller': '', 'trade_nr': 167647}\n",
      "{'timestamp': datetime.datetime(2021, 9, 25, 12, 30, 49), 'instrument_id': 'C1_OIL_CORP', 'price': 241.3, 'volume': 15, 'aggressor_side': 'ask', 'buyer': '', 'seller': '', 'trade_nr': 167649}\n",
      "{'timestamp': datetime.datetime(2021, 9, 25, 12, 30, 50), 'instrument_id': 'C1_OIL_CORP', 'price': 241.3, 'volume': 1, 'aggressor_side': 'ask', 'buyer': '', 'seller': '', 'trade_nr': 167652}\n",
      "{'timestamp': datetime.datetime(2021, 9, 25, 12, 31, 29), 'instrument_id': 'C1_OIL_CORP', 'price': 240.70000000000002, 'volume': 1, 'aggressor_side': 'bid', 'buyer': '', 'seller': '', 'trade_nr': 167710}\n",
      "{'timestamp': datetime.datetime(2021, 9, 25, 12, 31, 43), 'instrument_id': 'C1_OIL_CORP', 'price': 240.8, 'volume': 1, 'aggressor_side': 'bid', 'buyer': '', 'seller': '', 'trade_nr': 167746}\n",
      "{'timestamp': datetime.datetime(2021, 9, 25, 12, 31, 51), 'instrument_id': 'C1_OIL_CORP', 'price': 241.20000000000002, 'volume': 15, 'aggressor_side': 'bid', 'buyer': '', 'seller': '', 'trade_nr': 167758}\n",
      "{'timestamp': datetime.datetime(2021, 9, 25, 12, 31, 54), 'instrument_id': 'C1_OIL_CORP', 'price': 241.4, 'volume': 15, 'aggressor_side': 'ask', 'buyer': '', 'seller': '', 'trade_nr': 167763}\n",
      "{'timestamp': datetime.datetime(2021, 9, 25, 12, 31, 58), 'instrument_id': 'C1_OIL_CORP', 'price': 241.3, 'volume': 15, 'aggressor_side': 'ask', 'buyer': '', 'seller': '', 'trade_nr': 167767}\n",
      "{'timestamp': datetime.datetime(2021, 9, 25, 12, 32, 2), 'instrument_id': 'C1_OIL_CORP', 'price': 241.5, 'volume': 15, 'aggressor_side': 'ask', 'buyer': '', 'seller': '', 'trade_nr': 167782}\n",
      "{'timestamp': datetime.datetime(2021, 9, 25, 12, 32, 6), 'instrument_id': 'C1_OIL_CORP', 'price': 242.10000000000002, 'volume': 15, 'aggressor_side': 'ask', 'buyer': '', 'seller': '', 'trade_nr': 167794}\n",
      "{'timestamp': datetime.datetime(2021, 9, 25, 12, 32, 10), 'instrument_id': 'C1_OIL_CORP', 'price': 242.10000000000002, 'volume': 15, 'aggressor_side': 'ask', 'buyer': '', 'seller': '', 'trade_nr': 167832}\n",
      "{'timestamp': datetime.datetime(2021, 9, 25, 12, 32, 14), 'instrument_id': 'C1_OIL_CORP', 'price': 242.4, 'volume': 15, 'aggressor_side': 'ask', 'buyer': '', 'seller': '', 'trade_nr': 167838}\n",
      "{'timestamp': datetime.datetime(2021, 9, 25, 12, 32, 18), 'instrument_id': 'C1_OIL_CORP', 'price': 242.3, 'volume': 15, 'aggressor_side': 'ask', 'buyer': '', 'seller': '', 'trade_nr': 167841}\n",
      "{'timestamp': datetime.datetime(2021, 9, 25, 12, 32, 19), 'instrument_id': 'C1_OIL_CORP', 'price': 242.4, 'volume': 1, 'aggressor_side': 'bid', 'buyer': '', 'seller': '', 'trade_nr': 167845}\n",
      "{'timestamp': datetime.datetime(2021, 9, 25, 12, 32, 22), 'instrument_id': 'C1_OIL_CORP', 'price': 242.5, 'volume': 15, 'aggressor_side': 'ask', 'buyer': '', 'seller': '', 'trade_nr': 167849}\n",
      "{'timestamp': datetime.datetime(2021, 9, 25, 12, 32, 27), 'instrument_id': 'C1_OIL_CORP', 'price': 242.20000000000002, 'volume': 15, 'aggressor_side': 'bid', 'buyer': '', 'seller': '', 'trade_nr': 167854}\n",
      "{'timestamp': datetime.datetime(2021, 9, 25, 12, 32, 30), 'instrument_id': 'C1_OIL_CORP', 'price': 241.9, 'volume': 1, 'aggressor_side': 'ask', 'buyer': '', 'seller': '', 'trade_nr': 167858}\n",
      "{'timestamp': datetime.datetime(2021, 9, 25, 12, 32, 33), 'instrument_id': 'C1_OIL_CORP', 'price': 240.60000000000002, 'volume': 1, 'aggressor_side': 'ask', 'buyer': '', 'seller': '', 'trade_nr': 167863}\n",
      "{'timestamp': datetime.datetime(2021, 9, 25, 12, 32, 33), 'instrument_id': 'C1_OIL_CORP', 'price': 242.20000000000002, 'volume': 15, 'aggressor_side': 'bid', 'buyer': '', 'seller': '', 'trade_nr': 167864}\n",
      "{'timestamp': datetime.datetime(2021, 9, 25, 12, 32, 35), 'instrument_id': 'C1_OIL_CORP', 'price': 242.20000000000002, 'volume': 15, 'aggressor_side': 'ask', 'buyer': '', 'seller': '', 'trade_nr': 167866}\n"
     ]
    }
   ],
   "source": [
    "# Returns all public tradeticks since the instantiation of the Exchange\n",
    "tradeticks = e.get_trade_tick_history(instrument_id)\n",
    "for t in tradeticks:\n",
    "    print(vars(t))"
   ]
  },
  {
   "cell_type": "markdown",
   "id": "93751eff-7075-40d6-95a3-4b132cac6cd8",
   "metadata": {},
   "source": [
    "## Problem 6"
   ]
  },
  {
   "cell_type": "code",
   "execution_count": 170,
   "id": "cd48d398-f817-4c54-92ef-411dd166b681",
   "metadata": {},
   "outputs": [],
   "source": [
    "last_price_book = e.get_last_price_book(instrument_id)"
   ]
  },
  {
   "cell_type": "code",
   "execution_count": 173,
   "id": "4e919ecb-84aa-41c8-af50-e5d00e74e877",
   "metadata": {},
   "outputs": [
    {
     "data": {
      "text/plain": [
       "{'timestamp': datetime.datetime(2021, 9, 25, 12, 44, 11, 980563),\n",
       " 'instrument_id': 'C1_OIL_CORP',\n",
       " 'bids': [[price_volume] price=239.70000000000002, volume=2400,\n",
       "  [price_volume] price=238.70000000000002, volume=15],\n",
       " 'asks': [[price_volume] price=239.9, volume=2400,\n",
       "  [price_volume] price=240.20000000000002, volume=15]}"
      ]
     },
     "execution_count": 173,
     "metadata": {},
     "output_type": "execute_result"
    }
   ],
   "source": [
    "vars(last_price_book)"
   ]
  },
  {
   "cell_type": "code",
   "execution_count": 181,
   "id": "27cf8555-e9ca-460a-a684-02df986780f8",
   "metadata": {},
   "outputs": [
    {
     "data": {
      "text/plain": [
       "[[price_volume] price=239.70000000000002, volume=2400,\n",
       " [price_volume] price=238.70000000000002, volume=15]"
      ]
     },
     "execution_count": 181,
     "metadata": {},
     "output_type": "execute_result"
    }
   ],
   "source": [
    "last_price_book.bids"
   ]
  },
  {
   "cell_type": "code",
   "execution_count": 182,
   "id": "867754f1-445d-4c57-9de9-71f75aae2c8d",
   "metadata": {},
   "outputs": [
    {
     "data": {
      "text/plain": [
       "[[price_volume] price=239.9, volume=2400,\n",
       " [price_volume] price=240.20000000000002, volume=15]"
      ]
     },
     "execution_count": 182,
     "metadata": {},
     "output_type": "execute_result"
    },
    {
     "name": "stderr",
     "output_type": "stream",
     "text": [
      "2021-09-25 12:53:09,666 [client    ] [Thread-5    ] Forcing a disconnect due to an error: Closing connection because someone else logged in with the same credentials. Only one session may be active at the same time.\n"
     ]
    }
   ],
   "source": [
    "last_price_book.asks"
   ]
  },
  {
   "cell_type": "code",
   "execution_count": 196,
   "id": "f8f16bfd-88dd-4025-8415-09460b408f7c",
   "metadata": {},
   "outputs": [
    {
     "data": {
      "text/plain": [
       "optibook.common_types.PriceVolume"
      ]
     },
     "execution_count": 196,
     "metadata": {},
     "output_type": "execute_result"
    }
   ],
   "source": [
    "type(last_price_book.bids[0])"
   ]
  }
 ],
 "metadata": {
  "kernelspec": {
   "display_name": "Python 3",
   "language": "python",
   "name": "python3"
  },
  "language_info": {
   "codemirror_mode": {
    "name": "ipython",
    "version": 3
   },
   "file_extension": ".py",
   "mimetype": "text/x-python",
   "name": "python",
   "nbconvert_exporter": "python",
   "pygments_lexer": "ipython3",
   "version": "3.6.12"
  }
 },
 "nbformat": 4,
 "nbformat_minor": 5
}
