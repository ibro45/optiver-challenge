{
 "cells": [
  {
   "cell_type": "code",
   "execution_count": 10,
   "id": "ec1ed582-d892-4aea-8e3b-13e8ed927299",
   "metadata": {},
   "outputs": [
    {
     "name": "stdout",
     "output_type": "stream",
     "text": [
      "Setup was successful.\n"
     ]
    }
   ],
   "source": [
    "from optibook.synchronous_client import Exchange\n",
    "\n",
    "import logging\n",
    "logger = logging.getLogger('client')\n",
    "logger.setLevel('ERROR')\n",
    "\n",
    "print(\"Setup was successful.\")"
   ]
  },
  {
   "cell_type": "code",
   "execution_count": 11,
   "id": "f8c62c0e-d3bd-4bc8-b317-b5791530526b",
   "metadata": {},
   "outputs": [],
   "source": [
    "# Instrument aliases for readability\n",
    "FOSSIL_BASKET = \"C1_FOSSIL_FUEL_ETF\"\n",
    "FOSSIL_GAS = \"C1_GAS_INC\"\n",
    "FOSSIL_OIL = \"C1_OIL_CORP\"\n",
    "\n",
    "GREEN_BASKET = \"C2_GREEN_ENERGY_ETF\"\n",
    "GREEN_SOLAR = \"C2_SOLAR_CO\"\n",
    "GREEN_WIND = \"C2_WIND_LTD\""
   ]
  },
  {
   "cell_type": "code",
   "execution_count": 12,
   "id": "c9cfcb80-d17d-4a3f-af88-b5716d3ef535",
   "metadata": {},
   "outputs": [
    {
     "name": "stderr",
     "output_type": "stream",
     "text": [
      "2021-09-25 14:10:53,792 [asyncio   ] [MainThread  ] Using selector: EpollSelector\n",
      "2021-09-25 14:10:53,808 [client    ] [Thread-5    ] Forcing a disconnect due to an error: Closing connection because someone else logged in with the same credentials. Only one session may be active at the same time.\n"
     ]
    }
   ],
   "source": [
    "# Connect to exchange\n",
    "e = Exchange()\n",
    "a = e.connect()\n"
   ]
  },
  {
   "cell_type": "code",
   "execution_count": 15,
   "id": "863b32f7-0393-4964-8b33-e6b386bf5049",
   "metadata": {},
   "outputs": [
    {
     "ename": "NameError",
     "evalue": "name 'instrument_id' is not defined",
     "output_type": "error",
     "traceback": [
      "\u001b[0;31m---------------------------------------------------------------------------\u001b[0m",
      "\u001b[0;31mNameError\u001b[0m                                 Traceback (most recent call last)",
      "\u001b[0;32m<ipython-input-15-4e90c72dd4ea>\u001b[0m in \u001b[0;36m<module>\u001b[0;34m\u001b[0m\n\u001b[0;32m----> 1\u001b[0;31m \u001b[0mbook\u001b[0m \u001b[0;34m=\u001b[0m \u001b[0me\u001b[0m\u001b[0;34m.\u001b[0m\u001b[0mget_last_price_book\u001b[0m\u001b[0;34m(\u001b[0m\u001b[0minstrument_id\u001b[0m\u001b[0;34m)\u001b[0m\u001b[0;34m\u001b[0m\u001b[0;34m\u001b[0m\u001b[0m\n\u001b[0m\u001b[1;32m      2\u001b[0m \u001b[0mprint\u001b[0m\u001b[0;34m(\u001b[0m\u001b[0mbook\u001b[0m\u001b[0;34m)\u001b[0m\u001b[0;34m\u001b[0m\u001b[0;34m\u001b[0m\u001b[0m\n",
      "\u001b[0;31mNameError\u001b[0m: name 'instrument_id' is not defined"
     ]
    }
   ],
   "source": [
    "instruments = [\"C2_WIND_LTD\", \"C2_SOLAR_CO\", \"C2_GREEN_ENERGY_ETF\"]\n",
    "def makeMoney():\n",
    "    books = [e.get_last_price_book(instrument) for instrument in instruments]\n",
    "    for bid in books[2].bids:\n",
    "        if bid.volume > 2:\n",
    "            highest_basket_bid = bid.price\n",
    "            break\n",
    "    for ask in books[2].asks:\n",
    "        if ask.volume > 2:\n",
    "            lowest_basket_ask = ask.price\n",
    "            break\n",
    "    \n",
    "    buy_basket_profit = highest_basket_bid*2 - (books[1].asks[0].price + books[0].asks[0].price)\n",
    "    sell_basket_profit = (books[1].asks[0].price + books[0].asks[0].price) - lowest_basket_ask\n",
    "            \n",
    "        "
   ]
  },
  {
   "cell_type": "code",
   "execution_count": 14,
   "id": "e9e307d6-afcb-477d-b617-e363df389cdb",
   "metadata": {},
   "outputs": [
    {
     "name": "stdout",
     "output_type": "stream",
     "text": [
      "C1_GAS_INC {'volume': 0, 'cash': 0.0}\n",
      "C1_OIL_CORP {'volume': 20, 'cash': -4709.0}\n",
      "C1_FOSSIL_FUEL_ETF {'volume': 0, 'cash': -59488.7}\n",
      "C2_GREEN_ENERGY_ETF {'volume': -500, 'cash': 57206.30000000001}\n",
      "C2_SOLAR_CO {'volume': 245, 'cash': -32393.80000000005}\n",
      "C2_WIND_LTD {'volume': 243, 'cash': -23587.100000000035}\n"
     ]
    }
   ],
   "source": [
    "# Returns all current positions with cash invested\n",
    "positions = e.get_positions_and_cash()\n",
    "for p in positions:\n",
    "    print(p, positions[p])"
   ]
  },
  {
   "cell_type": "code",
   "execution_count": null,
   "id": "5325f682-3d48-40e0-b014-c10028d9a695",
   "metadata": {},
   "outputs": [],
   "source": []
  }
 ],
 "metadata": {
  "kernelspec": {
   "display_name": "Python 3",
   "language": "python",
   "name": "python3"
  },
  "language_info": {
   "codemirror_mode": {
    "name": "ipython",
    "version": 3
   },
   "file_extension": ".py",
   "mimetype": "text/x-python",
   "name": "python",
   "nbconvert_exporter": "python",
   "pygments_lexer": "ipython3",
   "version": "3.6.12"
  }
 },
 "nbformat": 4,
 "nbformat_minor": 5
}
