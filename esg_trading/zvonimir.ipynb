{
 "cells": [
  {
   "cell_type": "code",
   "execution_count": 2,
   "id": "ec1ed582-d892-4aea-8e3b-13e8ed927299",
   "metadata": {},
   "outputs": [
    {
     "name": "stdout",
     "output_type": "stream",
     "text": [
      "Setup was successful.\n"
     ]
    }
   ],
   "source": [
    "from optibook.synchronous_client import Exchange\n",
    "\n",
    "import logging\n",
    "logger = logging.getLogger('client')\n",
    "logger.setLevel('ERROR')\n",
    "\n",
    "print(\"Setup was successful.\")\n"
   ]
  },
  {
   "cell_type": "code",
   "execution_count": null,
   "id": "f8c62c0e-d3bd-4bc8-b317-b5791530526b",
   "metadata": {},
   "outputs": [],
   "source": [
    "# Instrument aliases for readability\n",
    "FOSSIL_BASKET = \"C1_FOSSIL_FUEL_ETF\"\n",
    "FOSSIL_GAS = \"C1_GAS_INC\"\n",
    "FOSSIL_OIL = \"C1_OIL_CORP\"\n",
    "\n",
    "GREEN_BASKET = \"C2_GREEN_ENERGY_ETF\"\n",
    "GREEN_SOLAR = \"C2_SOLAR_CO\"\n",
    "GREEN_WIND = \"C2_WIND_LTD\""
   ]
  },
  {
   "cell_type": "code",
   "execution_count": null,
   "id": "c9cfcb80-d17d-4a3f-af88-b5716d3ef535",
   "metadata": {},
   "outputs": [],
   "source": [
    "# Connect to exchange\n",
    "e = Exchange()\n",
    "a = e.connect()\n"
   ]
  },
  {
   "cell_type": "code",
   "execution_count": null,
   "id": "863b32f7-0393-4964-8b33-e6b386bf5049",
   "metadata": {},
   "outputs": [],
   "source": [
    "# Returns all currently outstanding orders\n",
    "orders = e.get_outstanding_orders(GREEN_BASKET)\n",
    "for o in orders.values():\n",
    "    print(o)"
   ]
  },
  {
   "cell_type": "code",
   "execution_count": null,
   "id": "e9e307d6-afcb-477d-b617-e363df389cdb",
   "metadata": {},
   "outputs": [],
   "source": []
  }
 ],
 "metadata": {
  "kernelspec": {
   "display_name": "Python 3",
   "language": "python",
   "name": "python3"
  },
  "language_info": {
   "codemirror_mode": {
    "name": "ipython",
    "version": 3
   },
   "file_extension": ".py",
   "mimetype": "text/x-python",
   "name": "python",
   "nbconvert_exporter": "python",
   "pygments_lexer": "ipython3",
   "version": "3.6.12"
  }
 },
 "nbformat": 4,
 "nbformat_minor": 5
}
