{
 "cells": [
  {
   "cell_type": "markdown",
   "metadata": {},
   "source": [
    "# Optibook Manual\n",
    "\n",
    "This notebook contains examples for **all interactions** you can do with optibook (that means inserting orders, getting your positions, etc.). You should use this notebook as a reference/documenation for the system later on when you write more extensive algorithms.\n",
    "\n",
    "First we do some setup and import the optibook client, which is used to connect to the optibook exchange. If everything is setup correctly, you should see the line \"Setup was successful.\" being printed."
   ]
  },
  {
   "cell_type": "code",
   "execution_count": 1,
   "metadata": {},
   "outputs": [
    {
     "name": "stdout",
     "output_type": "stream",
     "text": [
      "Setup was successful.\n"
     ]
    }
   ],
   "source": [
    "from optibook.synchronous_client import Exchange\n",
    "\n",
    "import logging\n",
    "logger = logging.getLogger('client')\n",
    "logger.setLevel('ERROR')\n",
    "\n",
    "print(\"Setup was successful.\")"
   ]
  },
  {
   "cell_type": "markdown",
   "metadata": {},
   "source": [
    "### Define Your Instrument\n",
    "\n",
    "An instrument is the term we use for the 'thing' that we are trading. As such, if we are trading BMW stocks, we would call those an instrument. However, BMW options would be a different instrument. \n",
    "\n",
    "This field determines which instrument we are trading. By changing it, you will insert trades for a different instrument. You can see all available instruments by looking at the dropdown menu labeled \"Instruments\" on the visualizer."
   ]
  },
  {
   "cell_type": "code",
   "execution_count": 15,
   "metadata": {},
   "outputs": [],
   "source": [
    "# Ibro: ovo sam ja promjenio cisto da vidimo outpute svih cellova\n",
    "instrument_id = \"C1_FOSSIL_FUEL_ETF\" # 'QUESTION_1'"
   ]
  },
  {
   "cell_type": "markdown",
   "metadata": {},
   "source": [
    "### Connect to Exchange"
   ]
  },
  {
   "cell_type": "code",
   "execution_count": 16,
   "metadata": {},
   "outputs": [
    {
     "name": "stderr",
     "output_type": "stream",
     "text": [
      "2021-09-25 10:49:10,315 [asyncio   ] [MainThread  ] Using selector: EpollSelector\n"
     ]
    }
   ],
   "source": [
    "e = Exchange()\n",
    "a = e.connect()\n",
    "\n",
    "# you can also define host/user/pass yourself\n",
    "# when not defined, it is taken from ~/.optibook file if it exists\n",
    "# if that file does not exists, an error is thrown\n",
    "\n",
    "#e = Exchange(host='host-to-connect-to')\n",
    "#a = e.connect(username='your-username', password='your-password')\n"
   ]
  },
  {
   "cell_type": "markdown",
   "metadata": {},
   "source": [
    "## Outstanding Orders, Trades, Current Positions and PnL"
   ]
  },
  {
   "cell_type": "code",
   "execution_count": 43,
   "metadata": {},
   "outputs": [
    {
     "ename": "AssertionError",
     "evalue": "Cannot call function until connected. Call connect() first",
     "output_type": "error",
     "traceback": [
      "\u001b[0;31m---------------------------------------------------------------------------\u001b[0m",
      "\u001b[0;31mAssertionError\u001b[0m                            Traceback (most recent call last)",
      "\u001b[0;32m<ipython-input-43-bdb362deb577>\u001b[0m in \u001b[0;36m<module>\u001b[0;34m\u001b[0m\n\u001b[1;32m      1\u001b[0m \u001b[0;31m# Returns all currently outstanding orders\u001b[0m\u001b[0;34m\u001b[0m\u001b[0;34m\u001b[0m\u001b[0;34m\u001b[0m\u001b[0m\n\u001b[0;32m----> 2\u001b[0;31m \u001b[0morders\u001b[0m \u001b[0;34m=\u001b[0m \u001b[0me\u001b[0m\u001b[0;34m.\u001b[0m\u001b[0mget_outstanding_orders\u001b[0m\u001b[0;34m(\u001b[0m\u001b[0minstrument_id\u001b[0m\u001b[0;34m)\u001b[0m\u001b[0;34m\u001b[0m\u001b[0;34m\u001b[0m\u001b[0m\n\u001b[0m\u001b[1;32m      3\u001b[0m \u001b[0;32mfor\u001b[0m \u001b[0mo\u001b[0m \u001b[0;32min\u001b[0m \u001b[0morders\u001b[0m\u001b[0;34m.\u001b[0m\u001b[0mvalues\u001b[0m\u001b[0;34m(\u001b[0m\u001b[0;34m)\u001b[0m\u001b[0;34m:\u001b[0m\u001b[0;34m\u001b[0m\u001b[0;34m\u001b[0m\u001b[0m\n\u001b[1;32m      4\u001b[0m     \u001b[0mprint\u001b[0m\u001b[0;34m(\u001b[0m\u001b[0mo\u001b[0m\u001b[0;34m)\u001b[0m\u001b[0;34m\u001b[0m\u001b[0;34m\u001b[0m\u001b[0m\n",
      "\u001b[0;32m/usr/local/lib/python3.6/site-packages/optibook/synchronous_client.py\u001b[0m in \u001b[0;36mget_outstanding_orders\u001b[0;34m(self, instrument_id)\u001b[0m\n\u001b[1;32m    266\u001b[0m             \u001b[0mReturns\u001b[0m \u001b[0mthe\u001b[0m \u001b[0mclient\u001b[0m\u001b[0;31m'\u001b[0m\u001b[0ms\u001b[0m \u001b[0mcurrently\u001b[0m \u001b[0moutstanding\u001b[0m \u001b[0mlimit\u001b[0m \u001b[0morders\u001b[0m \u001b[0mon\u001b[0m \u001b[0man\u001b[0m \u001b[0minstrument\u001b[0m\u001b[0;34m.\u001b[0m\u001b[0;34m\u001b[0m\u001b[0;34m\u001b[0m\u001b[0m\n\u001b[1;32m    267\u001b[0m         \"\"\"\n\u001b[0;32m--> 268\u001b[0;31m         \u001b[0;32massert\u001b[0m \u001b[0mself\u001b[0m\u001b[0;34m.\u001b[0m\u001b[0mis_connected\u001b[0m\u001b[0;34m(\u001b[0m\u001b[0;34m)\u001b[0m\u001b[0;34m,\u001b[0m \u001b[0;34m\"Cannot call function until connected. Call connect() first\"\u001b[0m\u001b[0;34m\u001b[0m\u001b[0;34m\u001b[0m\u001b[0m\n\u001b[0m\u001b[1;32m    269\u001b[0m         \u001b[0;32mreturn\u001b[0m \u001b[0mself\u001b[0m\u001b[0;34m.\u001b[0m\u001b[0m_e\u001b[0m\u001b[0;34m.\u001b[0m\u001b[0mget_outstanding_orders\u001b[0m\u001b[0;34m(\u001b[0m\u001b[0minstrument_id\u001b[0m\u001b[0;34m)\u001b[0m\u001b[0;34m\u001b[0m\u001b[0;34m\u001b[0m\u001b[0m\n\u001b[1;32m    270\u001b[0m \u001b[0;34m\u001b[0m\u001b[0m\n",
      "\u001b[0;31mAssertionError\u001b[0m: Cannot call function until connected. Call connect() first"
     ]
    }
   ],
   "source": [
    "# Returns all currently outstanding orders\n",
    "orders = e.get_outstanding_orders(instrument_id)\n",
    "for o in orders.values():\n",
    "    print(o)"
   ]
  },
  {
   "cell_type": "code",
   "execution_count": 18,
   "metadata": {},
   "outputs": [],
   "source": [
    "# Returns all trades you have done since the last time this function was called\n",
    "trades = e.poll_new_trades(instrument_id)\n",
    "for t in trades:\n",
    "    print(f\"[TRADED {t.instrument_id}] price({t.price}), volume({t.volume}), side({t.side})\")"
   ]
  },
  {
   "cell_type": "code",
   "execution_count": 19,
   "metadata": {},
   "outputs": [],
   "source": [
    "# Returns all trades you have done since since the instantiation of the Exchange\n",
    "trades = e.get_trade_history(instrument_id)\n",
    "for t in trades:\n",
    "    print(f\"[TRADED {t.instrument_id}] price({t.price}), volume({t.volume}), side({t.side})\")"
   ]
  },
  {
   "cell_type": "code",
   "execution_count": 20,
   "metadata": {},
   "outputs": [
    {
     "name": "stdout",
     "output_type": "stream",
     "text": [
      "C1_GAS_INC 0\n",
      "C1_OIL_CORP 0\n",
      "C1_FOSSIL_FUEL_ETF 0\n",
      "C2_GREEN_ENERGY_ETF 0\n",
      "C2_SOLAR_CO 0\n",
      "C2_WIND_LTD 0\n"
     ]
    }
   ],
   "source": [
    "# Returns all current positions\n",
    "positions = e.get_positions()\n",
    "for p in positions:\n",
    "    print(p, positions[p])"
   ]
  },
  {
   "cell_type": "code",
   "execution_count": null,
   "metadata": {},
   "outputs": [],
   "source": []
  },
  {
   "cell_type": "code",
   "execution_count": 21,
   "metadata": {},
   "outputs": [
    {
     "name": "stdout",
     "output_type": "stream",
     "text": [
      "C1_GAS_INC {'volume': 0, 'cash': 0.0}\n",
      "C1_OIL_CORP {'volume': 0, 'cash': 0.0}\n",
      "C1_FOSSIL_FUEL_ETF {'volume': 0, 'cash': 0.0}\n",
      "C2_GREEN_ENERGY_ETF {'volume': 0, 'cash': -7.1000000000000085}\n",
      "C2_SOLAR_CO {'volume': 0, 'cash': 0.0}\n",
      "C2_WIND_LTD {'volume': 0, 'cash': 0.0}\n"
     ]
    }
   ],
   "source": [
    "# Returns all current positions with cash invested\n",
    "positions = e.get_positions_and_cash()\n",
    "for p in positions:\n",
    "    print(p, positions[p])"
   ]
  },
  {
   "cell_type": "code",
   "execution_count": 22,
   "metadata": {},
   "outputs": [
    {
     "name": "stdout",
     "output_type": "stream",
     "text": [
      "-7.1000000000000085\n"
     ]
    }
   ],
   "source": [
    "# Returns Current PnL based on last Traded Price\n",
    "pnl = e.get_pnl()\n",
    "print(pnl)"
   ]
  },
  {
   "cell_type": "markdown",
   "metadata": {},
   "source": [
    "## Order Book and Public Trade Ticks"
   ]
  },
  {
   "cell_type": "code",
   "execution_count": 23,
   "metadata": {},
   "outputs": [
    {
     "name": "stdout",
     "output_type": "stream",
     "text": [
      "<optibook.common_types.PriceBook object at 0x7f7c20d17400>\n"
     ]
    }
   ],
   "source": [
    "book = e.get_last_price_book(instrument_id)\n",
    "print(book)"
   ]
  },
  {
   "cell_type": "code",
   "execution_count": 41,
   "metadata": {},
   "outputs": [
    {
     "name": "stdout",
     "output_type": "stream",
     "text": [
      "Bids:\n",
      " [[price_volume] price=166.8, volume=250, [price_volume] price=166.70000000000002, volume=1500] \n",
      "\n",
      "Asks:\n",
      " [[price_volume] price=167.60000000000002, volume=250, [price_volume] price=168.10000000000002, volume=1500] \n",
      "\n",
      "Instrument ID:\n",
      " C1_FOSSIL_FUEL_ETF \n",
      "\n",
      "Timestamp:\n",
      " 2021-09-25 10:49:12.733854 \n",
      "\n"
     ]
    }
   ],
   "source": [
    "# Ibro: dodao ovo jer ovo gore samo printa object\n",
    "# Ovo su svi argumenti ovog objekta\n",
    "print(\"Bids:\\n\", book.bids, \"\\n\")\n",
    "print(\"Asks:\\n\", book.asks, \"\\n\")\n",
    "print(\"Instrument ID:\\n\", book.instrument_id, \"\\n\")\n",
    "print(\"Timestamp:\\n\", book.timestamp, \"\\n\")"
   ]
  },
  {
   "cell_type": "code",
   "execution_count": 42,
   "metadata": {},
   "outputs": [
    {
     "name": "stdout",
     "output_type": "stream",
     "text": [
      "[C1_FOSSIL_FUEL_ETF] price(3000.0), volume(21), aggressor_side(ask), buyer(), seller()\n",
      "[C1_FOSSIL_FUEL_ETF] price(166.8), volume(10), aggressor_side(ask), buyer(), seller()\n",
      "[C1_FOSSIL_FUEL_ETF] price(166.8), volume(10), aggressor_side(ask), buyer(), seller()\n",
      "[C1_FOSSIL_FUEL_ETF] price(167.5), volume(1), aggressor_side(bid), buyer(), seller()\n",
      "[C1_FOSSIL_FUEL_ETF] price(167.5), volume(15), aggressor_side(bid), buyer(), seller()\n",
      "[C1_FOSSIL_FUEL_ETF] price(166.9), volume(22), aggressor_side(ask), buyer(), seller()\n",
      "[C1_FOSSIL_FUEL_ETF] price(166.8), volume(10), aggressor_side(ask), buyer(), seller()\n",
      "[C1_FOSSIL_FUEL_ETF] price(167.5), volume(15), aggressor_side(bid), buyer(), seller()\n",
      "[C1_FOSSIL_FUEL_ETF] price(166.8), volume(10), aggressor_side(ask), buyer(), seller()\n",
      "[C1_FOSSIL_FUEL_ETF] price(167.5), volume(10), aggressor_side(bid), buyer(), seller()\n",
      "[C1_FOSSIL_FUEL_ETF] price(166.8), volume(10), aggressor_side(ask), buyer(), seller()\n",
      "[C1_FOSSIL_FUEL_ETF] price(167.5), volume(10), aggressor_side(bid), buyer(), seller()\n",
      "[C1_FOSSIL_FUEL_ETF] price(166.8), volume(10), aggressor_side(ask), buyer(), seller()\n",
      "[C1_FOSSIL_FUEL_ETF] price(166.8), volume(15), aggressor_side(ask), buyer(), seller()\n",
      "[C1_FOSSIL_FUEL_ETF] price(166.8), volume(15), aggressor_side(ask), buyer(), seller()\n",
      "[C1_FOSSIL_FUEL_ETF] price(167.5), volume(10), aggressor_side(bid), buyer(), seller()\n",
      "[C1_FOSSIL_FUEL_ETF] price(166.8), volume(15), aggressor_side(ask), buyer(), seller()\n",
      "[C1_FOSSIL_FUEL_ETF] price(167.5), volume(15), aggressor_side(bid), buyer(), seller()\n",
      "[C1_FOSSIL_FUEL_ETF] price(166.8), volume(10), aggressor_side(ask), buyer(), seller()\n",
      "[C1_FOSSIL_FUEL_ETF] price(166.70000000000002), volume(15), aggressor_side(ask), buyer(), seller()\n",
      "[C1_FOSSIL_FUEL_ETF] price(167.4), volume(15), aggressor_side(bid), buyer(), seller()\n",
      "[C1_FOSSIL_FUEL_ETF] price(167.5), volume(10), aggressor_side(bid), buyer(), seller()\n",
      "[C1_FOSSIL_FUEL_ETF] price(166.8), volume(10), aggressor_side(ask), buyer(), seller()\n",
      "[C1_FOSSIL_FUEL_ETF] price(166.8), volume(10), aggressor_side(ask), buyer(), seller()\n",
      "[C1_FOSSIL_FUEL_ETF] price(166.70000000000002), volume(10), aggressor_side(ask), buyer(), seller()\n",
      "[C1_FOSSIL_FUEL_ETF] price(166.70000000000002), volume(10), aggressor_side(ask), buyer(), seller()\n",
      "[C1_FOSSIL_FUEL_ETF] price(166.70000000000002), volume(10), aggressor_side(ask), buyer(), seller()\n",
      "[C1_FOSSIL_FUEL_ETF] price(167.4), volume(15), aggressor_side(bid), buyer(), seller()\n",
      "[C1_FOSSIL_FUEL_ETF] price(166.70000000000002), volume(200), aggressor_side(ask), buyer(), seller()\n",
      "[C1_FOSSIL_FUEL_ETF] price(166.70000000000002), volume(2), aggressor_side(ask), buyer(), seller()\n",
      "[C1_FOSSIL_FUEL_ETF] price(166.70000000000002), volume(20), aggressor_side(ask), buyer(), seller()\n",
      "[C1_FOSSIL_FUEL_ETF] price(166.70000000000002), volume(2), aggressor_side(ask), buyer(), seller()\n",
      "[C1_FOSSIL_FUEL_ETF] price(166.4), volume(15), aggressor_side(ask), buyer(), seller()\n",
      "[C1_FOSSIL_FUEL_ETF] price(167.10000000000002), volume(10), aggressor_side(bid), buyer(), seller()\n",
      "[C1_FOSSIL_FUEL_ETF] price(167.10000000000002), volume(15), aggressor_side(bid), buyer(), seller()\n",
      "[C1_FOSSIL_FUEL_ETF] price(167.8), volume(10), aggressor_side(bid), buyer(), seller()\n",
      "[C1_FOSSIL_FUEL_ETF] price(166.4), volume(15), aggressor_side(ask), buyer(), seller()\n",
      "[C1_FOSSIL_FUEL_ETF] price(167.0), volume(15), aggressor_side(bid), buyer(), seller()\n",
      "[C1_FOSSIL_FUEL_ETF] price(167.10000000000002), volume(10), aggressor_side(bid), buyer(), seller()\n",
      "[C1_FOSSIL_FUEL_ETF] price(167.10000000000002), volume(2), aggressor_side(bid), buyer(), seller()\n",
      "[C1_FOSSIL_FUEL_ETF] price(167.10000000000002), volume(200), aggressor_side(bid), buyer(), seller()\n",
      "[C1_FOSSIL_FUEL_ETF] price(167.5), volume(10), aggressor_side(bid), buyer(), seller()\n",
      "[C1_FOSSIL_FUEL_ETF] price(167.60000000000002), volume(15), aggressor_side(bid), buyer(), seller()\n",
      "[C1_FOSSIL_FUEL_ETF] price(167.60000000000002), volume(2), aggressor_side(bid), buyer(), seller()\n",
      "[C1_FOSSIL_FUEL_ETF] price(166.9), volume(10), aggressor_side(ask), buyer(), seller()\n",
      "[C1_FOSSIL_FUEL_ETF] price(167.60000000000002), volume(209), aggressor_side(bid), buyer(), seller()\n",
      "[C1_FOSSIL_FUEL_ETF] price(167.60000000000002), volume(2), aggressor_side(bid), buyer(), seller()\n",
      "[C1_FOSSIL_FUEL_ETF] price(167.60000000000002), volume(37), aggressor_side(bid), buyer(), seller()\n",
      "[C1_FOSSIL_FUEL_ETF] price(167.9), volume(15), aggressor_side(bid), buyer(), seller()\n",
      "[C1_FOSSIL_FUEL_ETF] price(168.0), volume(200), aggressor_side(bid), buyer(), seller()\n",
      "[C1_FOSSIL_FUEL_ETF] price(168.0), volume(2), aggressor_side(bid), buyer(), seller()\n",
      "[C1_FOSSIL_FUEL_ETF] price(168.0), volume(200), aggressor_side(bid), buyer(), seller()\n",
      "[C1_FOSSIL_FUEL_ETF] price(168.0), volume(2), aggressor_side(bid), buyer(), seller()\n",
      "[C1_FOSSIL_FUEL_ETF] price(168.4), volume(2), aggressor_side(bid), buyer(), seller()\n",
      "[C1_FOSSIL_FUEL_ETF] price(168.4), volume(2), aggressor_side(bid), buyer(), seller()\n",
      "[C1_FOSSIL_FUEL_ETF] price(168.4), volume(200), aggressor_side(bid), buyer(), seller()\n",
      "[C1_FOSSIL_FUEL_ETF] price(168.4), volume(2), aggressor_side(bid), buyer(), seller()\n",
      "[C1_FOSSIL_FUEL_ETF] price(168.4), volume(200), aggressor_side(bid), buyer(), seller()\n",
      "[C1_FOSSIL_FUEL_ETF] price(168.8), volume(10), aggressor_side(bid), buyer(), seller()\n",
      "[C1_FOSSIL_FUEL_ETF] price(168.8), volume(15), aggressor_side(bid), buyer(), seller()\n",
      "[C1_FOSSIL_FUEL_ETF] price(168.8), volume(10), aggressor_side(bid), buyer(), seller()\n",
      "[C1_FOSSIL_FUEL_ETF] price(168.10000000000002), volume(100), aggressor_side(ask), buyer(), seller()\n",
      "[C1_FOSSIL_FUEL_ETF] price(168.10000000000002), volume(15), aggressor_side(bid), buyer(), seller()\n",
      "[C1_FOSSIL_FUEL_ETF] price(167.9), volume(2), aggressor_side(bid), buyer(), seller()\n",
      "[C1_FOSSIL_FUEL_ETF] price(167.9), volume(98), aggressor_side(bid), buyer(), seller()\n",
      "[C1_FOSSIL_FUEL_ETF] price(167.9), volume(100), aggressor_side(bid), buyer(), seller()\n",
      "[C1_FOSSIL_FUEL_ETF] price(167.9), volume(15), aggressor_side(bid), buyer(), seller()\n",
      "[C1_FOSSIL_FUEL_ETF] price(167.8), volume(100), aggressor_side(bid), buyer(), seller()\n",
      "[C1_FOSSIL_FUEL_ETF] price(167.70000000000002), volume(10), aggressor_side(ask), buyer(), seller()\n",
      "[C1_FOSSIL_FUEL_ETF] price(167.70000000000002), volume(100), aggressor_side(ask), buyer(), seller()\n",
      "[C1_FOSSIL_FUEL_ETF] price(168.0), volume(15), aggressor_side(bid), buyer(), seller()\n",
      "[C1_FOSSIL_FUEL_ETF] price(167.3), volume(15), aggressor_side(ask), buyer(), seller()\n",
      "[C1_FOSSIL_FUEL_ETF] price(167.4), volume(10), aggressor_side(ask), buyer(), seller()\n",
      "[C1_FOSSIL_FUEL_ETF] price(168.8), volume(10), aggressor_side(bid), buyer(), seller()\n",
      "[C1_FOSSIL_FUEL_ETF] price(167.5), volume(200), aggressor_side(ask), buyer(), seller()\n",
      "[C1_FOSSIL_FUEL_ETF] price(168.0), volume(10), aggressor_side(bid), buyer(), seller()\n",
      "[C1_FOSSIL_FUEL_ETF] price(168.0), volume(10), aggressor_side(bid), buyer(), seller()\n"
     ]
    },
    {
     "name": "stderr",
     "output_type": "stream",
     "text": [
      "2021-09-25 10:55:45,070 [client    ] [Thread-5    ] Forcing a disconnect due to an error: Closing connection because someone else logged in with the same credentials. Only one session may be active at the same time.\n"
     ]
    }
   ],
   "source": [
    "# Returns all public tradeticks since the last time this function was called\n",
    "tradeticks = e.poll_new_trade_ticks(instrument_id)\n",
    "for t in tradeticks:\n",
    "    print(f\"[{t.instrument_id}] price({t.price}), volume({t.volume}), aggressor_side({t.aggressor_side}), buyer({t.buyer}), seller({t.seller})\")"
   ]
  },
  {
   "cell_type": "code",
   "execution_count": 25,
   "metadata": {},
   "outputs": [],
   "source": [
    "# Returns all public tradeticks since the instantiation of the Exchange\n",
    "tradeticks = e.get_trade_tick_history(instrument_id)\n",
    "for t in tradeticks:\n",
    "    print(t)"
   ]
  },
  {
   "cell_type": "code",
   "execution_count": 26,
   "metadata": {},
   "outputs": [],
   "source": [
    "# See all your outstanding orders\n",
    "outstanding = e.get_outstanding_orders(instrument_id)\n",
    "for o in outstanding.values():\n",
    "    print(f\"Outstanding order: order_id({o.order_id}), instrument_id({o.instrument_id}), price({o.price}), volume({o.volume}), side({o.side})\")"
   ]
  },
  {
   "cell_type": "markdown",
   "metadata": {},
   "source": [
    "## Inserting and Deleting Orders"
   ]
  },
  {
   "cell_type": "code",
   "execution_count": 27,
   "metadata": {},
   "outputs": [
    {
     "name": "stdout",
     "output_type": "stream",
     "text": [
      "Order Id: 1380441\n"
     ]
    }
   ],
   "source": [
    "# Insert bid limit order - This trades against any current orders, and any remainders become new resting orders in the book\n",
    "# Use this to buy.\n",
    "result = e.insert_order(instrument_id, price=3000, volume=21, side='bid', order_type='limit')\n",
    "print(f\"Order Id: {result}\")"
   ]
  },
  {
   "cell_type": "code",
   "execution_count": 28,
   "metadata": {},
   "outputs": [
    {
     "name": "stdout",
     "output_type": "stream",
     "text": [
      "Order Id: 1380601\n"
     ]
    }
   ],
   "source": [
    "# Insert ask limit order - This trades against any current orders, and any remainders become new resting orders in the book\n",
    "# Use this to sell.\n",
    "result = e.insert_order(instrument_id, price=3000, volume=1, side='ask', order_type='limit')\n",
    "print(f\"Order Id: {result}\")"
   ]
  },
  {
   "cell_type": "code",
   "execution_count": 29,
   "metadata": {},
   "outputs": [
    {
     "name": "stdout",
     "output_type": "stream",
     "text": [
      "Order Id: 1380622\n"
     ]
    }
   ],
   "source": [
    "# Insert bid IOC - This can trade against any resting volume but does not remain in the book\n",
    "# Use this to buy.\n",
    "result = e.insert_order(instrument_id, price=445.0, volume=1, side='bid', order_type='ioc')\n",
    "print(f\"Order Id: {result}\")"
   ]
  },
  {
   "cell_type": "code",
   "execution_count": 30,
   "metadata": {},
   "outputs": [
    {
     "name": "stdout",
     "output_type": "stream",
     "text": [
      "Order Id: 1380648\n"
     ]
    }
   ],
   "source": [
    "# Insert ask IOC - This can trade against any resting volume but does not remain in the book\n",
    "# Use this to sell.\n",
    "result = e.insert_order(instrument_id, price=430.0, volume=1, side='ask', order_type='ioc')\n",
    "print(f\"Order Id: {result}\")"
   ]
  },
  {
   "cell_type": "code",
   "execution_count": 31,
   "metadata": {},
   "outputs": [
    {
     "name": "stdout",
     "output_type": "stream",
     "text": [
      "\n",
      "Deleted order id 4: False\n"
     ]
    }
   ],
   "source": [
    "# Attempt to delete inserted order by order_id\n",
    "order_id = 4\n",
    "result = e.delete_order(instrument_id, order_id=order_id)\n",
    "print()\n",
    "print(f\"Deleted order id {order_id}: {result}\")"
   ]
  },
  {
   "cell_type": "code",
   "execution_count": 32,
   "metadata": {},
   "outputs": [
    {
     "name": "stdout",
     "output_type": "stream",
     "text": [
      "Changed volume for order id 5 to 16 lots: False\n"
     ]
    }
   ],
   "source": [
    "# Change volume for existing order\n",
    "order_id = 5\n",
    "new_volume = 16\n",
    "result = e.amend_order(instrument_id, order_id=order_id, volume=new_volume)\n",
    "print(f\"Changed volume for order id {order_id} to {new_volume} lots: {result}\")"
   ]
  },
  {
   "cell_type": "code",
   "execution_count": 33,
   "metadata": {},
   "outputs": [
    {
     "name": "stdout",
     "output_type": "stream",
     "text": [
      "Deleted order id 1380601: True\n"
     ]
    }
   ],
   "source": [
    "# Delete all outstanding orders\n",
    "outstanding = e.get_outstanding_orders(instrument_id)\n",
    "for o in outstanding.values():\n",
    "    result = e.delete_order(instrument_id, order_id=o.order_id)\n",
    "    print(f\"Deleted order id {o.order_id}: {result}\")"
   ]
  },
  {
   "cell_type": "markdown",
   "metadata": {},
   "source": [
    "## 'Hack' Out of Positions"
   ]
  },
  {
   "cell_type": "code",
   "execution_count": 34,
   "metadata": {},
   "outputs": [
    {
     "name": "stdout",
     "output_type": "stream",
     "text": [
      "{'C1_GAS_INC': 0, 'C1_OIL_CORP': 0, 'C1_FOSSIL_FUEL_ETF': 22, 'C2_GREEN_ENERGY_ETF': 0, 'C2_SOLAR_CO': 0, 'C2_WIND_LTD': 0}\n",
      "{'C1_GAS_INC': 0, 'C1_OIL_CORP': 0, 'C1_FOSSIL_FUEL_ETF': 0, 'C2_GREEN_ENERGY_ETF': 0, 'C2_SOLAR_CO': 0, 'C2_WIND_LTD': 0}\n"
     ]
    }
   ],
   "source": [
    "# Get out of all positions you are currently holding, regarless of the loss involved. That means selling whatever\n",
    "# you are long, and buying-back whatever you are short. Be sure you know what you are doing when you use this logic.\n",
    "print(e.get_positions())\n",
    "for s, p in e.get_positions().items():\n",
    "    if p > 0:\n",
    "        e.insert_order(s, price=1, volume=p, side='ask', order_type='ioc')\n",
    "    elif p < 0:\n",
    "        e.insert_order(s, price=100000, volume=-p, side='bid', order_type='ioc')  \n",
    "print(e.get_positions())"
   ]
  },
  {
   "cell_type": "code",
   "execution_count": null,
   "metadata": {},
   "outputs": [],
   "source": []
  }
 ],
 "metadata": {
  "kernelspec": {
   "display_name": "Python 3",
   "language": "python",
   "name": "python3"
  },
  "language_info": {
   "codemirror_mode": {
    "name": "ipython",
    "version": 3
   },
   "file_extension": ".py",
   "mimetype": "text/x-python",
   "name": "python",
   "nbconvert_exporter": "python",
   "pygments_lexer": "ipython3",
   "version": "3.6.12"
  }
 },
 "nbformat": 4,
 "nbformat_minor": 4
}
